{
 "cells": [
  {
   "cell_type": "markdown",
   "metadata": {},
   "source": [
    "# Exercises in Probability\n",
    "\n",
    "Source for Questions: Thinkful Curriculum\n",
    "\n",
    "This file written by Dipti Muni\n",
    "\n",
    "Date: 2 - 8 - 2018\n"
   ]
  },
  {
   "cell_type": "markdown",
   "metadata": {},
   "source": [
    "## Balanced Coin\n",
    "\n",
    " __Calculate the probability of flipping a balanced coin four times and getting each pattern: HTTH, HHHH and TTHH.__"
   ]
  },
  {
   "cell_type": "code",
   "execution_count": 12,
   "metadata": {},
   "outputs": [
    {
     "name": "stdout",
     "output_type": "stream",
     "text": [
      "HTTH:  1/16\n",
      "HHHH:  1/16\n",
      "TTHH:  1/16\n",
      "The decimal answer is 0.0625\n"
     ]
    }
   ],
   "source": [
    "from fractions import Fraction\n",
    "#HTTH\n",
    "#P(H) = P(T) = 1/2\n",
    "#P(H ∩ T ∩ T ∩ H) = P(H) * P(T) * P(T) * P(H) = (1/2) * (1/2) * (1/2) * (1/2)\n",
    "print(\"HTTH: \", Fraction((1/2) * (1/2) * (1/2) * (1/2)))\n",
    "#each have the same chances: 1/2\n",
    "print(\"HHHH: \", Fraction((1/2) * (1/2) * (1/2) * (1/2)))\n",
    "print(\"TTHH: \", Fraction((1/2) * (1/2) * (1/2) * (1/2)))\n",
    "print(\"The decimal answer is\", ((1/2) * (1/2) * (1/2) * (1/2)))"
   ]
  },
  {
   "cell_type": "markdown",
   "metadata": {},
   "source": [
    "## Opposites \n",
    "\n",
    "__If a list of people has 24 women and 21 men, then the probability of choosing a man from the list is 21/45. What is the probability of not choosing a man?__"
   ]
  },
  {
   "cell_type": "markdown",
   "metadata": {},
   "source": [
    "P(Not Men) = 24/45"
   ]
  },
  {
   "cell_type": "markdown",
   "metadata": {},
   "source": [
    "## Plane Crash\n",
    "\n",
    "__The probability that Bernice will travel by plane sometime in the next year is 10%. The probability of a plane crash at any time is .005%. What is the probability that Bernice will be in a plane crash sometime in the next year?__"
   ]
  },
  {
   "cell_type": "code",
   "execution_count": 37,
   "metadata": {},
   "outputs": [
    {
     "name": "stdout",
     "output_type": "stream",
     "text": [
      "The probability that Bernice will be in a plane crash sometime in the next year is  0.0005 %\n"
     ]
    }
   ],
   "source": [
    "#P(Travel) = 10%\n",
    "#P(Crash) = .005%\n",
    "#P(Travel | Crash) = P(Travel And Crash) / P(Travel)\n",
    "print(\"The probability that Bernice will be in a plane crash sometime in the next year is \", round((.10 + .00005) / (.10) - 1, 5), \"%\")"
   ]
  },
  {
   "cell_type": "markdown",
   "metadata": {},
   "source": [
    "## Conclusion Correction\n",
    "\n",
    "__A data scientist wants to study the behavior of users on the company website. Each time a user clicks on a link on the website, there is a 5% chance that the user will be asked to complete a short survey about their behavior on the website. The data scientist uses the survey data to conclude that, on average, users spend 15 minutes surfing the company website before moving on to other things. What is wrong with this conclusion?__"
   ]
  },
  {
   "cell_type": "markdown",
   "metadata": {},
   "source": [
    "The problem with this conclusion is that the users that are spending more time on the website are more likely to click  on one or more links, which then increases the chance of getting the survey by the users who have already spend 15 or minutes surfing. Very less chance of getting survey from users who were there for less time. "
   ]
  }
 ],
 "metadata": {
  "kernelspec": {
   "display_name": "Python 3",
   "language": "python",
   "name": "python3"
  },
  "language_info": {
   "codemirror_mode": {
    "name": "ipython",
    "version": 3
   },
   "file_extension": ".py",
   "mimetype": "text/x-python",
   "name": "python",
   "nbconvert_exporter": "python",
   "pygments_lexer": "ipython3",
   "version": "3.6.3"
  }
 },
 "nbformat": 4,
 "nbformat_minor": 2
}
