{
 "cells": [
  {
   "cell_type": "markdown",
   "metadata": {},
   "source": [
    "# Exercises in Bayes' Rule\n",
    "\n",
    "Source for Questions: Thinkful Curriculum\n",
    "\n",
    "This file written by Dipti Muni\n",
    "\n",
    "Date: 2 - 12 - 2018\n",
    "\n",
    "__Use Bayes' rule to compute some conditional probabilities.__ \n",
    "\n",
    "1. First look over the numbers and estimate each of the four probabilities, using your intuition. \n",
    "\n",
    "2. Then, calculate the probabilities using Bayes' rule. \n",
    "\n",
    "__Problem to Solve__\n",
    "\n",
    "A ___diagnostic test___ has a ___98% probability___ of giving a positive result when applied to a person suffering from Thripshaw's Disease, and ___10% probability___ of giving a (false) positive when applied to a non-sufferer. \n",
    "\n",
    "It is estimated that ___0.5 % of the population are sufferers___. Suppose that the test is now administered to a person whose disease status is unknown. \n",
    "\n",
    "__Calculate the probability that the test will:__\n",
    "\n",
    "Be positive\n",
    "\n",
    "Correctly diagnose a sufferer of Thripshaw's \n",
    "\n",
    "Correctly identify a non-sufferer of Thripshaw's\n",
    "\n",
    "Misclassify the person\n",
    "\n",
    "__Conclusion__\n",
    "\n",
    "Were your intuitions on the mark, or way off? "
   ]
  },
  {
   "cell_type": "markdown",
   "metadata": {},
   "source": [
    "## My intuitions\n",
    "\n",
    "__P(Be positive)__ = 2%\n",
    "\n",
    "__P(Correctly diagnose a sufferer of Thripshaw's)__ = high\n",
    "\n",
    "__P(Correctly identify a non-sufferer of Thripshaw's)__ = high\n",
    "\n",
    "__P(Misclassify the person)__ = likely with the fact there are unknown disease status in the mix \n"
   ]
  },
  {
   "cell_type": "markdown",
   "metadata": {},
   "source": [
    "## Apply Bayes' Rule\n",
    "\n",
    "P(A | B) = P(B | A) * P(A) / P(B)\n",
    "\n",
    "OR\n",
    "\n",
    "_Below equation mostly used for Medical tests_\n",
    "P(A | B) = P(B | A) * P(A) / [P(A)*P(B|A) + P(A~)*P(B|A~)]\n",
    "\n",
    "P(A) = P(disease) = 0.005\n",
    "P(A~) = 1-0.005 = 0.995\n",
    "P(B) = P(positive test) = [P(A)*P(B|A) + P(A~)*P(B|A~)] = 0.005*0.98 + 0.995*0.10 = 0.0049 + 0.0995 = 0.1044\n",
    "P(B | A) = P(positive test | disease) = 0.98\n",
    "P(B | A~) = P(positive test | not disease) = 0.10\n",
    "P(A | B) = P(disease | positive test) = P(B | A) * P(A) / P(B) = 0.98*0.005 / 0.1044 = 0.0049 / 0.1044 = 0.04693487"
   ]
  },
  {
   "cell_type": "markdown",
   "metadata": {},
   "source": [
    "### P(Be Positive)"
   ]
  },
  {
   "cell_type": "markdown",
   "metadata": {
    "collapsed": true
   },
   "source": [
    "P(B) = P(positive test) = [P(A)*P(B|A) + P(A~)*P(B|A~)] = 0.005*0.98 + 0.995*0.10 = 0.0049 + 0.0995 = 0.1044 = 10.44%"
   ]
  },
  {
   "cell_type": "markdown",
   "metadata": {},
   "source": [
    "### P(Correctly Diagnose a Sufferer of Thripshaw's)\n"
   ]
  },
  {
   "cell_type": "markdown",
   "metadata": {
    "collapsed": true
   },
   "source": [
    "P(B | A) = P(positive test | disease) = 0.98 = 98%"
   ]
  },
  {
   "cell_type": "markdown",
   "metadata": {},
   "source": [
    "### P(Correctly identify a non-sufferer of Thripshaw's)\n"
   ]
  },
  {
   "cell_type": "markdown",
   "metadata": {
    "collapsed": true
   },
   "source": [
    "P(B~ | A~) = P(negative test | not disease) = 1- 0.10 = 0.90 = 90%"
   ]
  },
  {
   "cell_type": "markdown",
   "metadata": {},
   "source": [
    "### P(Misclassify the person)\n"
   ]
  },
  {
   "cell_type": "markdown",
   "metadata": {
    "collapsed": true
   },
   "source": [
    "P(A)*P(B~|A) + P(A~)*P(B|A~) = P(disease)*P(negative test| disease) + P(not disease)*P(positive test | not disease) = \n",
    "0.005*0.02 + 0.995*0.10 = 0.0001 + 0.0995 = 0.0996 = 9.96%"
   ]
  },
  {
   "cell_type": "markdown",
   "metadata": {},
   "source": [
    "### Conclusion\n",
    "\n",
    "I was definitely off mark with probability of positive test. However, I made good assumptions about the rest, especially about correctly diagnosing a sufferer and non-sufferer. "
   ]
  }
 ],
 "metadata": {
  "kernelspec": {
   "display_name": "Python 3",
   "language": "python",
   "name": "python3"
  },
  "language_info": {
   "codemirror_mode": {
    "name": "ipython",
    "version": 3
   },
   "file_extension": ".py",
   "mimetype": "text/x-python",
   "name": "python",
   "nbconvert_exporter": "python",
   "pygments_lexer": "ipython3",
   "version": "3.6.3"
  }
 },
 "nbformat": 4,
 "nbformat_minor": 2
}
