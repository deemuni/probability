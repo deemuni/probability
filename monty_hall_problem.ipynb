{
 "cells": [
  {
   "cell_type": "markdown",
   "metadata": {},
   "source": [
    "# Monty Hall Problem\n",
    "\n",
    "Source: Thinkful Curriculum and https://brilliant.org/wiki/monty-hall-problem/\n",
    "\n",
    "This file written by Dipti Muni\n",
    "\n",
    "Date: 2 - 12 - 2018\n",
    "\n",
    "__Problem to Solve__\n",
    "\n",
    "We will solve one of the classic problems called the Monty Hall Problem. It is deceptively simple, and really digging into it reveals a myriad of approaches and some serious applications of conditional probability. The story goes like this:\n",
    "\n",
    "You are on a game show and given the choice of whatever is behind three doors. Behind one door is a fantastic prize (some examples use a car, others use cash) while behind the other two doors is a dud (some examples say a goat, others say it's just empty). You pick a door. Then the host opens one of the other two doors to reveal a dud. But here's the wrinkle: the host now gives you the opportunity to switch your door. What should you do?\n",
    "\n",
    "Write up some notes on this problem, including how you think Bayes' Rule might apply. \n"
   ]
  },
  {
   "cell_type": "markdown",
   "metadata": {},
   "source": [
    "## Solution \n",
    "\n",
    "__Notes:__ At first, when I am given 3 doors to select from and one has the prize, that means I have 1/3 of probability to win the prize. Then the host opens one of the other two doors to show a dud. Now I have 50% chance of winning the prize with either door. So my chance of winning increased by 17%. I think I will stick with my first choice. \n",
    "\n",
    "__Bayes' Rule Application:__Probability of winning a prize given a choice and opening of a door. You are using conditional probability. It is also given that the host will not open a door that has the prize. If you chose Door1, and the host opens Door3 and there is a goat. \n",
    "Bayes' Rule:\n",
    "    P(A|B) = P(B|A)*P(A) / P(B) OR P(A | B) = P(B | A) * P(A) / [P(A)*P(B|A) + P(A~)*P(B|A~)]\n",
    "    \n",
    "P(A) = Probability that the door I chose has prize behind it with revealing any doors = 1/3\n",
    "P(A~) = Probability that the door I chose does not have prize behind it with revealing any doors = 1 - P(A) = 2/3\n",
    "P(B | A) = Probability that the host opens the door with a goat, given the prize is behind your door = 1\n",
    "P(B | A~) = Probability that the host opens the door with a goat, given that goat is behind your door = 1\n",
    "\n",
    "P(A|B) = (1*1/3)/(1*1/3+1*2/3) = 1/3. \n",
    "\n",
    "The probability is unchanged. However, since prize can be behind your door or the one Host has not picked, the probability it is behind the door that is not revealed is 2/3. So switching is twice as likely to get you prize than stick with your door. \n",
    "    "
   ]
  }
 ],
 "metadata": {
  "kernelspec": {
   "display_name": "Python 3",
   "language": "python",
   "name": "python3"
  },
  "language_info": {
   "codemirror_mode": {
    "name": "ipython",
    "version": 3
   },
   "file_extension": ".py",
   "mimetype": "text/x-python",
   "name": "python",
   "nbconvert_exporter": "python",
   "pygments_lexer": "ipython3",
   "version": "3.6.3"
  }
 },
 "nbformat": 4,
 "nbformat_minor": 2
}
