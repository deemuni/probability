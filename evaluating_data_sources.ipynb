{
 "cells": [
  {
   "cell_type": "markdown",
   "metadata": {},
   "source": [
    "# Evaluating Data Sources\n",
    "\n",
    "Source for Questions: Thinkful Curriculum\n",
    "\n",
    "This file written by Dipti Muni\n",
    "\n",
    "Date: 2 - 8 - 2018\n",
    "\n",
    "__Problem to Solve__\n",
    "\n",
    "In each of the scenarios, find possible shortcomings of the data sources to answer the given question. What could be done to either adjust the analysis or reframe the question so that you can answer it accurately?"
   ]
  },
  {
   "cell_type": "markdown",
   "metadata": {},
   "source": [
    "## Data Source: Amsterdam\n",
    "\n",
    "__Amsterdam availability data scraped from AirBnB on December 24th. Question: What are the popular neighborhoods in Amsterdam?__"
   ]
  },
  {
   "cell_type": "markdown",
   "metadata": {},
   "source": [
    "__Shortcomings:__ Well it is the day before Christmas, major family holiday. So most AirBnB are likely booked. If you are only looking for available ones, you are likely to find it either in not so good neighborhood or very high priced AirBnB. \n",
    "\n",
    "__Reframed Question:__ What is the average price for AirBnB the day before Christmas? What are the top three neighborhoods with most availability? If the ratings are available, what is the most common rating?"
   ]
  },
  {
   "cell_type": "markdown",
   "metadata": {},
   "source": [
    "## Data Source: Mental Health\n",
    "\n",
    "__Mental health services use on September 12, 2001 in San Francisco, CA and New York City, NY. Question: How do patterns of mental health service use vary between cities?__"
   ]
  },
  {
   "cell_type": "markdown",
   "metadata": {},
   "source": [
    "__Shortcomings:__ The collected data for Mental health services comes from the day before 9/11 that happened in NY. Therefore, it is very likely that the day after this tragedy high volume of people used mental health services in NY than in any given normal day. Given that San Francisco is in the United States and therefore also received impact of the tragedy, but not to the high degree that had impacted people who were near the tragedy when it happened.\n",
    "\n",
    "__Adjust the Analysis:__ The question doesn't need to be reframed but rather we need to collect the data in a normal or uneventful day for both cities. Also, one day will not give enough data and it will make sense to collect data over a certain period of time to improve our chances of seeing patterns that are meaningful."
   ]
  },
  {
   "cell_type": "markdown",
   "metadata": {},
   "source": [
    "## Data Source: Armenian Pub Survey\n",
    "\n",
    "__[Armenian Pub Survey](https://www.kaggle.com/erikhambardzumyan/pubs). Question: What are the most common reasons Armenians visit local pubs?__"
   ]
  },
  {
   "cell_type": "markdown",
   "metadata": {},
   "source": [
    "__Shortcomings:__ After closing examining the data, I noticed that survey users are college age around 17 to 23 (see feature Age and most of them are students (see feature Lifestyle).\n",
    "\n",
    "__Reframed Question:__ Reframe the questions like \"What are the most common reasons College Aged (age 17 to 23) Armenians visit local pubs? \n"
   ]
  }
 ],
 "metadata": {
  "kernelspec": {
   "display_name": "Python 3",
   "language": "python",
   "name": "python3"
  },
  "language_info": {
   "codemirror_mode": {
    "name": "ipython",
    "version": 3
   },
   "file_extension": ".py",
   "mimetype": "text/x-python",
   "name": "python",
   "nbconvert_exporter": "python",
   "pygments_lexer": "ipython3",
   "version": "3.6.3"
  }
 },
 "nbformat": 4,
 "nbformat_minor": 2
}
